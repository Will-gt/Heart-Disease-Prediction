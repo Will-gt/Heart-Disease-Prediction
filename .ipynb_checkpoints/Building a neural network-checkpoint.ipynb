{
 "cells": [
  {
   "cell_type": "markdown",
   "metadata": {},
   "source": [
    "We are going to use:\n",
    "\n",
    "1. Tensorflow - Open source machine learning library (Offers APIs for developers to use the library to create deep learning models e.g. Keras)\n",
    "2. Keras - High level neural network API which sits on top of Tensorflow. Developers interact directly with Keras in order to easily use Tensorflow.\n",
    "\n"
   ]
  },
  {
   "cell_type": "code",
   "execution_count": 11,
   "metadata": {},
   "outputs": [
    {
     "name": "stdout",
     "output_type": "stream",
     "text": [
      "(576, 12)\n"
     ]
    }
   ],
   "source": [
    "#Import libraries\n",
    "import tensorflow as tf\n",
    "from tensorflow import keras\n",
    "from keras.models import Sequential\n",
    "from keras.layers import Dense, Activation\n",
    "import pandas as pd\n",
    "from sklearn.cross_validation import train_test_split\n",
    "\n",
    "##Importing dataset\n",
    "    #dataset with labels are Disease/No Disease\n",
    "dataset = pd.read_csv(\"dataset_c.csv\").values\n",
    "    #dataset with labels are 0,1,2,3,4\n",
    "#dataset = pd.read_csv(\"dataset_r.csv\").values\n",
    "\n",
    "#First 12 columns are features (x) - Input features\n",
    "I = dataset[:,1:13]\n",
    "#Last column is the label which needs to be predicted - Output label\n",
    "O = dataset[:,13]\n",
    "I_train, I_test, O_train, O_test = train_test_split(I,O,test_size=0.2)\n",
    "\n",
    "#print(I_train)\n",
    "#print(O_train)\n",
    "#print(I_test)\n",
    "#print(O_test)\n",
    "\n",
    "#Finding the input shape of the training sample (Needed as input_shape for first layer of model)\n",
    "print(I_train.shape)\n"
   ]
  },
  {
   "cell_type": "markdown",
   "metadata": {},
   "source": [
    "## Using Sequential Model from Keras\n",
    "\n",
    "\n",
    "### A1) Add list of layer instances\n",
    "\n",
    "notes: \n",
    "1. Can use either input_dim or input_shape\n",
    "2. input_dim = First value (x) of <I_train.shape> (x,y)\n",
    "3. input_shape = Both values (x and y) of <I_train.shape>"
   ]
  },
  {
   "cell_type": "code",
   "execution_count": 17,
   "metadata": {},
   "outputs": [
    {
     "name": "stdout",
     "output_type": "stream",
     "text": [
      "<keras.engine.sequential.Sequential object at 0x1a1cb1b128>\n"
     ]
    }
   ],
   "source": [
    "#Defining the parameters for the model \n",
    "model = Sequential()\n",
    "model.add(Dense(32, input_shape=(576, 12))) #OR model.add(Dense(32, input_dim=576))\n",
    "model.add(Dense(10))\n",
    "model.add(Activation('relu'))\n",
    "\n",
    "print (model)\n"
   ]
  },
  {
   "cell_type": "markdown",
   "metadata": {},
   "source": [
    "### A2) Compile model to configure training process\n",
    "\n"
   ]
  },
  {
   "cell_type": "code",
   "execution_count": null,
   "metadata": {},
   "outputs": [],
   "source": []
  },
  {
   "cell_type": "code",
   "execution_count": null,
   "metadata": {},
   "outputs": [],
   "source": []
  }
 ],
 "metadata": {
  "kernelspec": {
   "display_name": "Python 3",
   "language": "python",
   "name": "python3"
  },
  "language_info": {
   "codemirror_mode": {
    "name": "ipython",
    "version": 3
   },
   "file_extension": ".py",
   "mimetype": "text/x-python",
   "name": "python",
   "nbconvert_exporter": "python",
   "pygments_lexer": "ipython3",
   "version": "3.6.4"
  }
 },
 "nbformat": 4,
 "nbformat_minor": 2
}
